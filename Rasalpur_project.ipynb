{
 "cells": [
  {
   "cell_type": "code",
   "execution_count": 1,
   "id": "27efcd7f",
   "metadata": {},
   "outputs": [],
   "source": [
    "import pandas as pd\n",
    "import numpy as np\n",
    "from sklearn.model_selection import train_test_split\n",
    "from sklearn.preprocessing import LabelEncoder\n",
    "from sklearn.ensemble import RandomForestClassifier\n",
    "from sklearn.metrics import confusion_matrix,classification_report\n",
    "import seaborn as sns\n",
    "import matplotlib.pyplot as plt\n",
    "sns.set()\n",
    "%matplotlib inline"
   ]
  },
  {
   "cell_type": "code",
   "execution_count": 2,
   "id": "98db4b9f",
   "metadata": {},
   "outputs": [
    {
     "data": {
      "text/html": [
       "<div>\n",
       "<style scoped>\n",
       "    .dataframe tbody tr th:only-of-type {\n",
       "        vertical-align: middle;\n",
       "    }\n",
       "\n",
       "    .dataframe tbody tr th {\n",
       "        vertical-align: top;\n",
       "    }\n",
       "\n",
       "    .dataframe thead th {\n",
       "        text-align: right;\n",
       "    }\n",
       "</style>\n",
       "<table border=\"1\" class=\"dataframe\">\n",
       "  <thead>\n",
       "    <tr style=\"text-align: right;\">\n",
       "      <th></th>\n",
       "      <th>Ictype</th>\n",
       "      <th>SAMPLE_1</th>\n",
       "      <th>SAMPLE_2</th>\n",
       "      <th>SAMPLE_3</th>\n",
       "    </tr>\n",
       "  </thead>\n",
       "  <tbody>\n",
       "    <tr>\n",
       "      <th>0</th>\n",
       "      <td>Banana</td>\n",
       "      <td>147</td>\n",
       "      <td>182</td>\n",
       "      <td>135</td>\n",
       "    </tr>\n",
       "    <tr>\n",
       "      <th>1</th>\n",
       "      <td>Banana</td>\n",
       "      <td>60</td>\n",
       "      <td>105</td>\n",
       "      <td>60</td>\n",
       "    </tr>\n",
       "    <tr>\n",
       "      <th>2</th>\n",
       "      <td>Banana</td>\n",
       "      <td>43</td>\n",
       "      <td>77</td>\n",
       "      <td>35</td>\n",
       "    </tr>\n",
       "    <tr>\n",
       "      <th>3</th>\n",
       "      <td>Banana</td>\n",
       "      <td>141</td>\n",
       "      <td>170</td>\n",
       "      <td>122</td>\n",
       "    </tr>\n",
       "    <tr>\n",
       "      <th>4</th>\n",
       "      <td>Banana</td>\n",
       "      <td>43</td>\n",
       "      <td>81</td>\n",
       "      <td>30</td>\n",
       "    </tr>\n",
       "  </tbody>\n",
       "</table>\n",
       "</div>"
      ],
      "text/plain": [
       "   Ictype  SAMPLE_1  SAMPLE_2  SAMPLE_3\n",
       "0  Banana       147       182       135\n",
       "1  Banana        60       105        60\n",
       "2  Banana        43        77        35\n",
       "3  Banana       141       170       122\n",
       "4  Banana        43        81        30"
      ]
     },
     "execution_count": 2,
     "metadata": {},
     "output_type": "execute_result"
    }
   ],
   "source": [
    "df= pd.read_csv(\"New_training.csv\")\n",
    "df.head()"
   ]
  },
  {
   "cell_type": "code",
   "execution_count": 3,
   "id": "b920c768",
   "metadata": {},
   "outputs": [
    {
     "data": {
      "text/plain": [
       "(3150, 4)"
      ]
     },
     "execution_count": 3,
     "metadata": {},
     "output_type": "execute_result"
    }
   ],
   "source": [
    "df.shape"
   ]
  },
  {
   "cell_type": "code",
   "execution_count": 4,
   "id": "146bbac1",
   "metadata": {},
   "outputs": [],
   "source": [
    "X= df.drop(\"Ictype\",axis=1)\n",
    "y= df[\"Ictype\"]"
   ]
  },
  {
   "cell_type": "code",
   "execution_count": 5,
   "id": "c53c1873",
   "metadata": {},
   "outputs": [],
   "source": [
    "le= LabelEncoder()"
   ]
  },
  {
   "cell_type": "code",
   "execution_count": 6,
   "id": "df74274f",
   "metadata": {},
   "outputs": [],
   "source": [
    "X_train,X_test,y_train,y_test= train_test_split(X,y,test_size=0.2,random_state=42)"
   ]
  },
  {
   "cell_type": "code",
   "execution_count": 7,
   "id": "e1440f03",
   "metadata": {},
   "outputs": [],
   "source": [
    "y_train= le.fit_transform(y_train)\n",
    "y_test= le.transform(y_test)"
   ]
  },
  {
   "cell_type": "code",
   "execution_count": 8,
   "id": "4d3447ea",
   "metadata": {},
   "outputs": [
    {
     "data": {
      "text/plain": [
       "array(['Banana', 'Fresh_Field', 'Harvested'], dtype=object)"
      ]
     },
     "execution_count": 8,
     "metadata": {},
     "output_type": "execute_result"
    }
   ],
   "source": [
    "le.classes_"
   ]
  },
  {
   "cell_type": "code",
   "execution_count": 9,
   "id": "5e0d9761",
   "metadata": {},
   "outputs": [],
   "source": [
    "rfc= RandomForestClassifier(max_depth=7)"
   ]
  },
  {
   "cell_type": "code",
   "execution_count": 10,
   "id": "a48b5468",
   "metadata": {},
   "outputs": [
    {
     "data": {
      "text/plain": [
       "RandomForestClassifier(max_depth=7)"
      ]
     },
     "execution_count": 10,
     "metadata": {},
     "output_type": "execute_result"
    }
   ],
   "source": [
    "rfc.fit(X_train,y_train)"
   ]
  },
  {
   "cell_type": "code",
   "execution_count": 11,
   "id": "a42d6367",
   "metadata": {},
   "outputs": [
    {
     "data": {
      "text/plain": [
       "0.8892857142857142"
      ]
     },
     "execution_count": 11,
     "metadata": {},
     "output_type": "execute_result"
    }
   ],
   "source": [
    "rfc.score(X_train,y_train)"
   ]
  },
  {
   "cell_type": "code",
   "execution_count": 12,
   "id": "180ea740",
   "metadata": {},
   "outputs": [
    {
     "data": {
      "text/plain": [
       "0.8809523809523809"
      ]
     },
     "execution_count": 12,
     "metadata": {},
     "output_type": "execute_result"
    }
   ],
   "source": [
    "rfc.score(X_test,y_test)"
   ]
  },
  {
   "cell_type": "code",
   "execution_count": 13,
   "id": "f1bf3ee6",
   "metadata": {},
   "outputs": [],
   "source": [
    "preds= rfc.predict(X_test)"
   ]
  },
  {
   "cell_type": "code",
   "execution_count": 14,
   "id": "f67a2438",
   "metadata": {},
   "outputs": [],
   "source": [
    "conf= confusion_matrix(y_test,preds)"
   ]
  },
  {
   "cell_type": "code",
   "execution_count": 15,
   "id": "27722f9d",
   "metadata": {},
   "outputs": [
    {
     "data": {
      "text/plain": [
       "array([[225,   0,   3],\n",
       "       [  1, 177,  23],\n",
       "       [  0,  48, 153]], dtype=int64)"
      ]
     },
     "execution_count": 15,
     "metadata": {},
     "output_type": "execute_result"
    }
   ],
   "source": [
    "conf"
   ]
  },
  {
   "cell_type": "code",
   "execution_count": 16,
   "id": "d481a689",
   "metadata": {},
   "outputs": [
    {
     "data": {
      "image/png": "[encoded data removed]",
      "text/plain": [
       "<Figure size 432x288 with 2 Axes>"
      ]
     },
     "metadata": {
      "needs_background": "light"
     },
     "output_type": "display_data"
    }
   ],
   "source": [
    "sns.heatmap(conf,cmap=\"rainbow\",annot=True);"
   ]
  },
  {
   "cell_type": "code",
   "execution_count": 17,
   "id": "a7895974",
   "metadata": {},
   "outputs": [
    {
     "name": "stdout",
     "output_type": "stream",
     "text": [
      "              precision    recall  f1-score   support\n",
      "\n",
      "           0       1.00      0.99      0.99       228\n",
      "           1       0.79      0.88      0.83       201\n",
      "           2       0.85      0.76      0.81       201\n",
      "\n",
      "    accuracy                           0.88       630\n",
      "   macro avg       0.88      0.88      0.88       630\n",
      "weighted avg       0.88      0.88      0.88       630\n",
      "\n"
     ]
    }
   ],
   "source": [
    "classification= classification_report(y_test,preds)\n",
    "print(classification)"
   ]
  },
  {
   "cell_type": "code",
   "execution_count": 18,
   "id": "62cf96f8",
   "metadata": {},
   "outputs": [],
   "source": [
    "from sklearn.tree import DecisionTreeClassifier\n",
    "from sklearn.neighbors import KNeighborsClassifier\n",
    "from sklearn.ensemble import AdaBoostClassifier"
   ]
  },
  {
   "cell_type": "code",
   "execution_count": 19,
   "id": "3d8b81e2",
   "metadata": {},
   "outputs": [],
   "source": [
    "models= {'Decision_tree': DecisionTreeClassifier(),\n",
    "         'K-Neighbors': KNeighborsClassifier(n_neighbors=5),\n",
    "         'Random_forest': RandomForestClassifier(n_estimators=100,max_depth=7),\n",
    "         'Adaboost': AdaBoostClassifier()}\n",
    "\n",
    "train_score={}\n",
    "test_score={}\n",
    "\n",
    "for name,model in models.items():\n",
    "    model.fit(X_train,y_train)\n",
    "    train_score[name]= model.score(X_train,y_train)\n",
    "    test_score[name]= model.score(X_test,y_test)"
   ]
  },
  {
   "cell_type": "code",
   "execution_count": 20,
   "id": "12c4ec68",
   "metadata": {},
   "outputs": [
    {
     "data": {
      "text/plain": [
       "{'Decision_tree': 0.9904761904761905,\n",
       " 'K-Neighbors': 0.9035714285714286,\n",
       " 'Random_forest': 0.8928571428571429,\n",
       " 'Adaboost': 0.7194444444444444}"
      ]
     },
     "execution_count": 20,
     "metadata": {},
     "output_type": "execute_result"
    }
   ],
   "source": [
    "train_score"
   ]
  },
  {
   "cell_type": "code",
   "execution_count": 21,
   "id": "0cf38fbc",
   "metadata": {},
   "outputs": [
    {
     "data": {
      "text/plain": [
       "{'Decision_tree': 0.8158730158730159,\n",
       " 'K-Neighbors': 0.9063492063492063,\n",
       " 'Random_forest': 0.8841269841269841,\n",
       " 'Adaboost': 0.7158730158730159}"
      ]
     },
     "execution_count": 21,
     "metadata": {},
     "output_type": "execute_result"
    }
   ],
   "source": [
    "test_score"
   ]
  },
  {
   "cell_type": "code",
   "execution_count": 22,
   "id": "e1078ac0",
   "metadata": {},
   "outputs": [],
   "source": [
    "from osgeo import gdal"
   ]
  },
  {
   "cell_type": "code",
   "execution_count": 23,
   "id": "1e03f116",
   "metadata": {},
   "outputs": [],
   "source": [
    "image= 'Test_input.tif'\n",
    "outRaster = 'output.tif'"
   ]
  },
  {
   "cell_type": "code",
   "execution_count": 24,
   "id": "c1dbf617",
   "metadata": {},
   "outputs": [
    {
     "name": "stdout",
     "output_type": "stream",
     "text": [
      "9946 4282\n",
      "3\n"
     ]
    }
   ],
   "source": [
    "ds = gdal.Open(image, gdal.GA_ReadOnly)\n",
    "rows = ds.RasterYSize\n",
    "cols = ds.RasterXSize\n",
    "bands = ds.RasterCount\n",
    "geo_transform = ds.GetGeoTransform()\n",
    "projection = ds.GetProjectionRef()\n",
    "print(rows,cols)\n",
    "print(bands)"
   ]
  },
  {
   "cell_type": "code",
   "execution_count": 25,
   "id": "7ec63aef",
   "metadata": {},
   "outputs": [],
   "source": [
    "array = ds.ReadAsArray()"
   ]
  },
  {
   "cell_type": "code",
   "execution_count": 26,
   "id": "8abb884b",
   "metadata": {},
   "outputs": [],
   "source": [
    "array = np.stack(array,axis=2)\n",
    "array = np.reshape(array, [rows*cols,bands])\n",
    "test = pd.DataFrame(array, dtype='int16')"
   ]
  },
  {
   "cell_type": "code",
   "execution_count": 27,
   "id": "5d87c61d",
   "metadata": {},
   "outputs": [],
   "source": [
    "real_prediction= rfc.predict(test)"
   ]
  },
  {
   "cell_type": "code",
   "execution_count": 28,
   "id": "d655acf5",
   "metadata": {},
   "outputs": [],
   "source": [
    "classification = real_prediction.reshape((rows,cols))"
   ]
  },
  {
   "cell_type": "code",
   "execution_count": 29,
   "id": "632ba8a0",
   "metadata": {},
   "outputs": [],
   "source": [
    "def createGeotiff(outRaster, data, geo_transform, projection):\n",
    "   \n",
    "    driver = gdal.GetDriverByName('GTiff')\n",
    "    rows, cols = data.shape\n",
    "    rasterDS = driver.Create(outRaster, cols, rows, 1, gdal.GDT_Int32)\n",
    "    rasterDS.SetGeoTransform(geo_transform)\n",
    "    rasterDS.SetProjection(projection)\n",
    "    band = rasterDS.GetRasterBand(1)\n",
    "    band.WriteArray(data)\n",
    "    rasterDS = None\n"
   ]
  },
  {
   "cell_type": "code",
   "execution_count": 30,
   "id": "1da70042",
   "metadata": {},
   "outputs": [],
   "source": [
    "createGeotiff(outRaster,classification,geo_transform,projection)"
   ]
  },
  {
   "cell_type": "code",
   "execution_count": null,
   "id": "871efb64",
   "metadata": {},
   "outputs": [],
   "source": []
  }
 ],
 "metadata": {
  "kernelspec": {
   "display_name": "Python 3",
   "language": "python",
   "name": "python3"
  },
  "language_info": {
   "codemirror_mode": {
    "name": "ipython",
    "version": 3
   },
   "file_extension": ".py",
   "mimetype": "text/x-python",
   "name": "python",
   "nbconvert_exporter": "python",
   "pygments_lexer": "ipython3",
   "version": "3.7.10"
  }
 },
 "nbformat": 4,
 "nbformat_minor": 5
}
